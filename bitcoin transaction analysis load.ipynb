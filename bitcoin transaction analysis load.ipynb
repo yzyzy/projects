{
 "cells": [
  {
   "cell_type": "code",
   "execution_count": 4,
   "metadata": {
    "collapsed": false
   },
   "outputs": [],
   "source": [
    "import requests as re\n",
    "import pandas as pd \n",
    "pd.set_option('display.max_columns', 30)\n",
    "\n",
    "import json as json\n",
    "import urllib2\n",
    "import os\n",
    "os.chdir(\"XXX\")\n",
    "import networkx as nx\n",
    "\n",
    "%matplotlib inline\n",
    "\n",
    "import matplotlib.pyplot as plt\n",
    "import matplotlib\n",
    "matplotlib.style.use('ggplot')\n",
    "\n",
    "# data source: http://compbio.cs.uic.edu/data/bitcoin/"
   ]
  },
  {
   "cell_type": "code",
   "execution_count": 271,
   "metadata": {
    "collapsed": false
   },
   "outputs": [],
   "source": [
    "data = pd.read_csv('/Users/xxx', header = None)\n",
    "data.columns = ['tran_key', 'user_from', 'user_to', 'date', 'value']"
   ]
  },
  {
   "cell_type": "code",
   "execution_count": 13,
   "metadata": {
    "collapsed": false
   },
   "outputs": [
    {
     "data": {
      "text/html": [
       "<div style=\"max-height:1000px;max-width:1500px;overflow:auto;\">\n",
       "<table border=\"1\" class=\"dataframe\">\n",
       "  <thead>\n",
       "    <tr style=\"text-align: right;\">\n",
       "      <th></th>\n",
       "      <th>user_from</th>\n",
       "      <th>date2</th>\n",
       "      <th>mean</th>\n",
       "      <th>count</th>\n",
       "    </tr>\n",
       "  </thead>\n",
       "  <tbody>\n",
       "    <tr>\n",
       "      <th>count</th>\n",
       "      <td> 4271328.000000</td>\n",
       "      <td> 4271328.000000</td>\n",
       "      <td> 4271328.000000</td>\n",
       "      <td> 4271328.000000</td>\n",
       "    </tr>\n",
       "    <tr>\n",
       "      <th>mean</th>\n",
       "      <td> 2266581.106037</td>\n",
       "      <td>  201170.997390</td>\n",
       "      <td>     131.428227</td>\n",
       "      <td>       5.901038</td>\n",
       "    </tr>\n",
       "    <tr>\n",
       "      <th>std</th>\n",
       "      <td> 1410626.396714</td>\n",
       "      <td>      58.554923</td>\n",
       "      <td>    1485.411928</td>\n",
       "      <td>     853.802562</td>\n",
       "    </tr>\n",
       "    <tr>\n",
       "      <th>min</th>\n",
       "      <td>       1.000000</td>\n",
       "      <td>  200901.000000</td>\n",
       "      <td>       0.000000</td>\n",
       "      <td>       1.000000</td>\n",
       "    </tr>\n",
       "    <tr>\n",
       "      <th>25%</th>\n",
       "      <td> 1042128.500000</td>\n",
       "      <td>  201109.000000</td>\n",
       "      <td>       0.995000</td>\n",
       "      <td>       2.000000</td>\n",
       "    </tr>\n",
       "    <tr>\n",
       "      <th>50%</th>\n",
       "      <td> 2248314.500000</td>\n",
       "      <td>  201206.000000</td>\n",
       "      <td>       7.009661</td>\n",
       "      <td>       2.000000</td>\n",
       "    </tr>\n",
       "    <tr>\n",
       "      <th>75%</th>\n",
       "      <td> 3414897.250000</td>\n",
       "      <td>  201209.000000</td>\n",
       "      <td>      24.112627</td>\n",
       "      <td>       2.000000</td>\n",
       "    </tr>\n",
       "    <tr>\n",
       "      <th>max</th>\n",
       "      <td> 4892708.000000</td>\n",
       "      <td>  201301.000000</td>\n",
       "      <td>  454687.872560</td>\n",
       "      <td>  780755.000000</td>\n",
       "    </tr>\n",
       "  </tbody>\n",
       "</table>\n",
       "</div>"
      ],
      "text/plain": [
       "            user_from           date2            mean           count\n",
       "count  4271328.000000  4271328.000000  4271328.000000  4271328.000000\n",
       "mean   2266581.106037   201170.997390      131.428227        5.901038\n",
       "std    1410626.396714       58.554923     1485.411928      853.802562\n",
       "min          1.000000   200901.000000        0.000000        1.000000\n",
       "25%    1042128.500000   201109.000000        0.995000        2.000000\n",
       "50%    2248314.500000   201206.000000        7.009661        2.000000\n",
       "75%    3414897.250000   201209.000000       24.112627        2.000000\n",
       "max    4892708.000000   201301.000000   454687.872560   780755.000000"
      ]
     },
     "execution_count": 13,
     "metadata": {},
     "output_type": "execute_result"
    }
   ],
   "source": [
    "data_from = pd.read_csv('/Users/xxx')\n",
    "data_from.describe()"
   ]
  },
  {
   "cell_type": "code",
   "execution_count": 14,
   "metadata": {
    "collapsed": false
   },
   "outputs": [
    {
     "data": {
      "text/html": [
       "<div style=\"max-height:1000px;max-width:1500px;overflow:auto;\">\n",
       "<table border=\"1\" class=\"dataframe\">\n",
       "  <thead>\n",
       "    <tr style=\"text-align: right;\">\n",
       "      <th></th>\n",
       "      <th>user_to</th>\n",
       "      <th>date2</th>\n",
       "      <th>mean</th>\n",
       "      <th>count</th>\n",
       "    </tr>\n",
       "  </thead>\n",
       "  <tbody>\n",
       "    <tr>\n",
       "      <th>count</th>\n",
       "      <td> 5269199.000000</td>\n",
       "      <td> 5269199.000000</td>\n",
       "      <td> 5269199.000000</td>\n",
       "      <td> 5269199.000000</td>\n",
       "    </tr>\n",
       "    <tr>\n",
       "      <th>mean</th>\n",
       "      <td> 2328275.397554</td>\n",
       "      <td>  201168.230008</td>\n",
       "      <td>     202.200817</td>\n",
       "      <td>       4.783511</td>\n",
       "    </tr>\n",
       "    <tr>\n",
       "      <th>std</th>\n",
       "      <td> 1457530.611789</td>\n",
       "      <td>      58.714771</td>\n",
       "      <td>    2152.355026</td>\n",
       "      <td>     761.464354</td>\n",
       "    </tr>\n",
       "    <tr>\n",
       "      <th>min</th>\n",
       "      <td>       1.000000</td>\n",
       "      <td>  200901.000000</td>\n",
       "      <td>       0.000000</td>\n",
       "      <td>       1.000000</td>\n",
       "    </tr>\n",
       "    <tr>\n",
       "      <th>25%</th>\n",
       "      <td> 1030108.500000</td>\n",
       "      <td>  201108.000000</td>\n",
       "      <td>       0.247995</td>\n",
       "      <td>       1.000000</td>\n",
       "    </tr>\n",
       "    <tr>\n",
       "      <th>50%</th>\n",
       "      <td> 2306182.000000</td>\n",
       "      <td>  201205.000000</td>\n",
       "      <td>       6.590000</td>\n",
       "      <td>       1.000000</td>\n",
       "    </tr>\n",
       "    <tr>\n",
       "      <th>75%</th>\n",
       "      <td> 3592945.500000</td>\n",
       "      <td>  201209.000000</td>\n",
       "      <td>      34.081243</td>\n",
       "      <td>       1.000000</td>\n",
       "    </tr>\n",
       "    <tr>\n",
       "      <th>max</th>\n",
       "      <td> 4892708.000000</td>\n",
       "      <td>  201301.000000</td>\n",
       "      <td>  499259.587549</td>\n",
       "      <td>  795153.000000</td>\n",
       "    </tr>\n",
       "  </tbody>\n",
       "</table>\n",
       "</div>"
      ],
      "text/plain": [
       "              user_to           date2            mean           count\n",
       "count  5269199.000000  5269199.000000  5269199.000000  5269199.000000\n",
       "mean   2328275.397554   201168.230008      202.200817        4.783511\n",
       "std    1457530.611789       58.714771     2152.355026      761.464354\n",
       "min          1.000000   200901.000000        0.000000        1.000000\n",
       "25%    1030108.500000   201108.000000        0.247995        1.000000\n",
       "50%    2306182.000000   201205.000000        6.590000        1.000000\n",
       "75%    3592945.500000   201209.000000       34.081243        1.000000\n",
       "max    4892708.000000   201301.000000   499259.587549   795153.000000"
      ]
     },
     "execution_count": 14,
     "metadata": {},
     "output_type": "execute_result"
    }
   ],
   "source": [
    "data_to = pd.read_csv('/Users/xxx')\n",
    "data_to.describe()"
   ]
  },
  {
   "cell_type": "code",
   "execution_count": 15,
   "metadata": {
    "collapsed": false
   },
   "outputs": [],
   "source": [
    "from_mean = data_from['mean']\n",
    "from_count = data_from['count']\n",
    "\n",
    "to_mean = data_to['mean']\n",
    "to_count = data_to['count']\n"
   ]
  },
  {
   "cell_type": "code",
   "execution_count": 51,
   "metadata": {
    "collapsed": false
   },
   "outputs": [
    {
     "data": {
      "text/plain": [
       "<matplotlib.text.Text at 0x155a77390>"
      ]
     },
     "execution_count": 51,
     "metadata": {},
     "output_type": "execute_result"
    },
    {
     "data": {
      "image/png": "[encoded data removed]",
      "text/plain": [
       "<matplotlib.figure.Figure at 0x155806890>"
      ]
     },
     "metadata": {},
     "output_type": "display_data"
    }
   ],
   "source": [
    "from_mean.hist(bins=50,range=[0, 100])\n",
    "#from_count.hist()\n",
    "#to_mean.hist()\n",
    "#to_count.hist()\n",
    "\n",
    "plt.xlabel('Transaction amount')\n",
    "plt.ylabel('Senders')\n",
    "plt.title('Bitcoin outgoing monthly transaction amount')\n",
    "#plt.text(60, .025, r'$\\mu=100,\\ \\sigma=15$')\n",
    "#plt.axis([40, 160, 0, 0.03])\n",
    "#plt.grid(True)\n",
    "#plt.show()"
   ]
  },
  {
   "cell_type": "code",
   "execution_count": 50,
   "metadata": {
    "collapsed": false
   },
   "outputs": [
    {
     "data": {
      "text/plain": [
       "<matplotlib.text.Text at 0x154ead810>"
      ]
     },
     "execution_count": 50,
     "metadata": {},
     "output_type": "execute_result"
    },
    {
     "data": {
      "image/png": "[encoded data removed]",
      "text/plain": [
       "<matplotlib.figure.Figure at 0x138f71110>"
      ]
     },
     "metadata": {},
     "output_type": "display_data"
    }
   ],
   "source": [
    "#from_mean.hist(bins=50,range=[0, 100])\n",
    "from_count.hist(bins=50,range=[0, 10])\n",
    "#to_mean.hist()\n",
    "#to_count.hist()\n",
    "\n",
    "plt.xlabel('Transaction count')\n",
    "plt.ylabel('Senders')\n",
    "plt.title('Bitcoin outgoing monthly transaction count')"
   ]
  },
  {
   "cell_type": "code",
   "execution_count": 49,
   "metadata": {
    "collapsed": false
   },
   "outputs": [
    {
     "data": {
      "text/plain": [
       "<matplotlib.text.Text at 0x138c242d0>"
      ]
     },
     "execution_count": 49,
     "metadata": {},
     "output_type": "execute_result"
    },
    {
     "data": {
      "image/png": "[encoded data removed]",
      "text/plain": [
       "<matplotlib.figure.Figure at 0x130c54950>"
      ]
     },
     "metadata": {},
     "output_type": "display_data"
    }
   ],
   "source": [
    "#from_mean.hist(bins=50,range=[0, 100])\n",
    "#from_count.hist(bins=50,range=[0, 20])\n",
    "to_mean.hist(bins=50,range=[0, 100])\n",
    "#to_count.hist()\n",
    "\n",
    "plt.xlabel('Transaction amount')\n",
    "plt.ylabel('Recipients')\n",
    "plt.title('Bitcoin incoming monthly transaction amount')"
   ]
  },
  {
   "cell_type": "code",
   "execution_count": 48,
   "metadata": {
    "collapsed": false
   },
   "outputs": [
    {
     "data": {
      "text/plain": [
       "<matplotlib.text.Text at 0x12b869b10>"
      ]
     },
     "execution_count": 48,
     "metadata": {},
     "output_type": "execute_result"
    },
    {
     "data": {
      "image/png": "[encoded data removed]",
      "text/plain": [
       "<matplotlib.figure.Figure at 0x138886150>"
      ]
     },
     "metadata": {},
     "output_type": "display_data"
    }
   ],
   "source": [
    "#from_mean.hist(bins=50,range=[0, 100])\n",
    "#from_count.hist(bins=50,range=[0, 20])\n",
    "#to_mean.hist(bins=50,range=[0, 100])\n",
    "to_count.hist(bins=50,range=[0, 10])\n",
    "\n",
    "plt.xlabel('Transaction count')\n",
    "plt.ylabel('Recipients')\n",
    "plt.title('Bitcoin incoming monthly transaction count')"
   ]
  },
  {
   "cell_type": "code",
   "execution_count": 57,
   "metadata": {
    "collapsed": false
   },
   "outputs": [],
   "source": [
    "test = data[:20]"
   ]
  },
  {
   "cell_type": "code",
   "execution_count": 53,
   "metadata": {
    "collapsed": false
   },
   "outputs": [],
   "source": [
    "user_from = data['user_from']"
   ]
  },
  {
   "cell_type": "code",
   "execution_count": 54,
   "metadata": {
    "collapsed": false
   },
   "outputs": [],
   "source": [
    "user_to = data['user_to']"
   ]
  },
  {
   "cell_type": "code",
   "execution_count": 62,
   "metadata": {
    "collapsed": false
   },
   "outputs": [
    {
     "name": "stdout",
     "output_type": "stream",
     "text": [
      "<class 'pandas.core.series.Series'>\n",
      "    tran_key  user_from  user_to            date       value\n",
      "0          1          2        2  20130107022317   25.058500\n",
      "1          2     527164      756  20130106173619    0.001600\n",
      "2          2     527164   507666  20130106173619  425.439860\n",
      "3          3     507666   507667  20130107022317  425.435360\n",
      "4          3     507666        3  20130107022317    0.004000\n",
      "5          4       3016   507668  20130106123044  259.377577\n",
      "6          4       3016       13  20130106123044   35.381460\n",
      "7          5     507668        3  20130107022317    0.008000\n",
      "8          5     507668   507669  20130107022317  259.369077\n",
      "9          6     555857   555858  20130105181211    0.001600\n",
      "10         6     555857   507670  20130105181211   47.467157\n",
      "11         7     507670   507671  20130107022317   47.458657\n",
      "12         7     507670        3  20130107022317    0.008000\n",
      "13         8     622746   622747  20130103135838    0.004500\n",
      "14         8     622746   507672  20130103135838   42.370527\n",
      "15         9     507672   507673  20130107022317   42.362027\n",
      "16         9     507672        3  20130107022317    0.008000\n",
      "17        10     508021   508022  20130107021833    2.559160\n",
      "18        10     508021        4  20130107021833   46.850000\n",
      "19        11          4   507676  20130107022317    0.041000\n"
     ]
    }
   ],
   "source": [
    "print type(user_from)\n",
    "print test"
   ]
  },
  {
   "cell_type": "code",
   "execution_count": 61,
   "metadata": {
    "collapsed": false
   },
   "outputs": [],
   "source": [
    "G=nx.from_pandas_dataframe(test, 'user_from', 'user_to', ['value'])"
   ]
  },
  {
   "cell_type": "code",
   "execution_count": 65,
   "metadata": {
    "collapsed": false
   },
   "outputs": [
    {
     "data": {
      "text/plain": [
       "25.058499999999999"
      ]
     },
     "execution_count": 65,
     "metadata": {},
     "output_type": "execute_result"
    }
   ],
   "source": [
    "G[2][2]['value']"
   ]
  },
  {
   "cell_type": "code",
   "execution_count": 70,
   "metadata": {
    "collapsed": false
   },
   "outputs": [
    {
     "data": {
      "image/png": "[encoded data removed]",
      "text/plain": [
       "<matplotlib.figure.Figure at 0x136242a90>"
      ]
     },
     "metadata": {},
     "output_type": "display_data"
    }
   ],
   "source": [
    "nx.draw(G,pos=nx.spring_layout(G), with_labels=True, arrows=True)\n",
    "plt.show()"
   ]
  },
  {
   "cell_type": "code",
   "execution_count": 76,
   "metadata": {
    "collapsed": false
   },
   "outputs": [],
   "source": [
    "data2 = data[['user_from','user_to']]"
   ]
  },
  {
   "cell_type": "code",
   "execution_count": 78,
   "metadata": {
    "collapsed": false
   },
   "outputs": [],
   "source": [
    "data2.columns = ['Source','Target']"
   ]
  },
  {
   "cell_type": "code",
   "execution_count": 79,
   "metadata": {
    "collapsed": false
   },
   "outputs": [],
   "source": [
    "data2.to_csv('/Users/xxx')"
   ]
  },
  {
   "cell_type": "code",
   "execution_count": 86,
   "metadata": {
    "collapsed": false
   },
   "outputs": [],
   "source": [
    "data3 = data2[:500]"
   ]
  },
  {
   "cell_type": "code",
   "execution_count": 87,
   "metadata": {
    "collapsed": false
   },
   "outputs": [],
   "source": [
    "data3.to_csv('/Users/xxx')"
   ]
  },
  {
   "cell_type": "code",
   "execution_count": 85,
   "metadata": {
    "collapsed": false
   },
   "outputs": [
    {
     "name": "stdout",
     "output_type": "stream",
     "text": [
      "    tran_key  user_from  user_to            date       value\n",
      "0          1          2        2  20130107022317   25.058500\n",
      "1          2     527164      756  20130106173619    0.001600\n",
      "2          2     527164   507666  20130106173619  425.439860\n",
      "3          3     507666   507667  20130107022317  425.435360\n",
      "4          3     507666        3  20130107022317    0.004000\n",
      "5          4       3016   507668  20130106123044  259.377577\n",
      "6          4       3016       13  20130106123044   35.381460\n",
      "7          5     507668        3  20130107022317    0.008000\n",
      "8          5     507668   507669  20130107022317  259.369077\n",
      "9          6     555857   555858  20130105181211    0.001600\n",
      "10         6     555857   507670  20130105181211   47.467157\n",
      "11         7     507670   507671  20130107022317   47.458657\n",
      "12         7     507670        3  20130107022317    0.008000\n",
      "13         8     622746   622747  20130103135838    0.004500\n",
      "14         8     622746   507672  20130103135838   42.370527\n",
      "15         9     507672   507673  20130107022317   42.362027\n",
      "16         9     507672        3  20130107022317    0.008000\n",
      "17        10     508021   508022  20130107021833    2.559160\n",
      "18        10     508021        4  20130107021833   46.850000\n",
      "19        11          4   507676  20130107022317    0.041000\n"
     ]
    }
   ],
   "source": [
    "print data[:20]"
   ]
  },
  {
   "cell_type": "code",
   "execution_count": 112,
   "metadata": {
    "collapsed": false
   },
   "outputs": [],
   "source": [
    "import sqlite3\n",
    "from __future__ import unicode_literals\n",
    "import sys\n",
    "reload(sys)\n",
    "sys.setdefaultencoding('utf-8')\n"
   ]
  },
  {
   "cell_type": "code",
   "execution_count": 116,
   "metadata": {
    "collapsed": false
   },
   "outputs": [],
   "source": [
    "%load_ext sql"
   ]
  },
  {
   "cell_type": "code",
   "execution_count": 1,
   "metadata": {
    "collapsed": false
   },
   "outputs": [
    {
     "name": "stderr",
     "output_type": "stream",
     "text": [
      "ERROR: Line magic function `%sql` not found.\n"
     ]
    }
   ],
   "source": [
    "%sql sqlite:////Users/xxx\n",
    "#conn = sqlite3.connect('/Users/xxx')\n",
    "#conn.text_factory = conn.text_factory = lambda x: unicode(x, 'utf-8', 'ignore')"
   ]
  },
  {
   "cell_type": "code",
   "execution_count": 119,
   "metadata": {
    "collapsed": false
   },
   "outputs": [
    {
     "data": {
      "text/html": [
       "<table>\n",
       "    <tr>\n",
       "        <th>tran_key</th>\n",
       "        <th>user_from</th>\n",
       "        <th>user_to</th>\n",
       "        <th>date</th>\n",
       "        <th>value</th>\n",
       "    </tr>\n",
       "    <tr>\n",
       "        <td>1</td>\n",
       "        <td>2</td>\n",
       "        <td>2</td>\n",
       "        <td>20130107022317</td>\n",
       "        <td>25.0585</td>\n",
       "    </tr>\n",
       "    <tr>\n",
       "        <td>2</td>\n",
       "        <td>527164</td>\n",
       "        <td>756</td>\n",
       "        <td>20130106173619</td>\n",
       "        <td>0.0016</td>\n",
       "    </tr>\n",
       "    <tr>\n",
       "        <td>2</td>\n",
       "        <td>527164</td>\n",
       "        <td>507666</td>\n",
       "        <td>20130106173619</td>\n",
       "        <td>425.43986</td>\n",
       "    </tr>\n",
       "    <tr>\n",
       "        <td>3</td>\n",
       "        <td>507666</td>\n",
       "        <td>507667</td>\n",
       "        <td>20130107022317</td>\n",
       "        <td>425.43536</td>\n",
       "    </tr>\n",
       "    <tr>\n",
       "        <td>3</td>\n",
       "        <td>507666</td>\n",
       "        <td>3</td>\n",
       "        <td>20130107022317</td>\n",
       "        <td>0.004</td>\n",
       "    </tr>\n",
       "</table>"
      ],
      "text/plain": [
       "[(u'1', u'2', u'2', u'20130107022317', 25.0585),\n",
       " (u'2', u'527164', u'756', u'20130106173619', 0.0016),\n",
       " (u'2', u'527164', u'507666', u'20130106173619', 425.43986),\n",
       " (u'3', u'507666', u'507667', u'20130107022317', 425.43536),\n",
       " (u'3', u'507666', u'3', u'20130107022317', 0.004)]"
      ]
     },
     "execution_count": 119,
     "metadata": {},
     "output_type": "execute_result"
    }
   ],
   "source": [
    "%sql select * from user_edges limit 5;"
   ]
  },
  {
   "cell_type": "code",
   "execution_count": null,
   "metadata": {
    "collapsed": false
   },
   "outputs": [],
   "source": [
    "select user_from, date2, avg(value) as mean, count(*) as count \n",
    "from (select user_from, substr(date,1,6) as date2, value from user_edges) \n",
    "group by user_from, date2;"
   ]
  },
  {
   "cell_type": "code",
   "execution_count": 131,
   "metadata": {
    "collapsed": false
   },
   "outputs": [
    {
     "data": {
      "text/html": [
       "<table>\n",
       "    <tr>\n",
       "        <th>user_from</th>\n",
       "        <th>substr(date,1,8)</th>\n",
       "        <th>tran_count</th>\n",
       "    </tr>\n",
       "    <tr>\n",
       "        <td>6</td>\n",
       "        <td>20120614</td>\n",
       "        <td>65470</td>\n",
       "    </tr>\n",
       "    <tr>\n",
       "        <td>6</td>\n",
       "        <td>20120613</td>\n",
       "        <td>52214</td>\n",
       "    </tr>\n",
       "    <tr>\n",
       "        <td>6</td>\n",
       "        <td>20120615</td>\n",
       "        <td>46678</td>\n",
       "    </tr>\n",
       "    <tr>\n",
       "        <td>6</td>\n",
       "        <td>20120617</td>\n",
       "        <td>39444</td>\n",
       "    </tr>\n",
       "    <tr>\n",
       "        <td>6</td>\n",
       "        <td>20120815</td>\n",
       "        <td>38710</td>\n",
       "    </tr>\n",
       "    <tr>\n",
       "        <td>6</td>\n",
       "        <td>20121222</td>\n",
       "        <td>36671</td>\n",
       "    </tr>\n",
       "    <tr>\n",
       "        <td>6</td>\n",
       "        <td>20121227</td>\n",
       "        <td>35094</td>\n",
       "    </tr>\n",
       "    <tr>\n",
       "        <td>6</td>\n",
       "        <td>20120604</td>\n",
       "        <td>34450</td>\n",
       "    </tr>\n",
       "    <tr>\n",
       "        <td>6</td>\n",
       "        <td>20120610</td>\n",
       "        <td>34336</td>\n",
       "    </tr>\n",
       "    <tr>\n",
       "        <td>6</td>\n",
       "        <td>20120619</td>\n",
       "        <td>34170</td>\n",
       "    </tr>\n",
       "</table>"
      ],
      "text/plain": [
       "[(u'6', u'20120614', 65470),\n",
       " (u'6', u'20120613', 52214),\n",
       " (u'6', u'20120615', 46678),\n",
       " (u'6', u'20120617', 39444),\n",
       " (u'6', u'20120815', 38710),\n",
       " (u'6', u'20121222', 36671),\n",
       " (u'6', u'20121227', 35094),\n",
       " (u'6', u'20120604', 34450),\n",
       " (u'6', u'20120610', 34336),\n",
       " (u'6', u'20120619', 34170)]"
      ]
     },
     "execution_count": 131,
     "metadata": {},
     "output_type": "execute_result"
    }
   ],
   "source": [
    "%%sql \n",
    "select user_from, substr(date,1,8) as date2, count(tran_key) as tran_count, sum(value) as tran_amount \n",
    "from user_edges \n",
    "group by user_from, substr(date,1,8) \n",
    "order by count(tran_key) desc\n",
    "limit 10;\n",
    "\n",
    "\n"
   ]
  },
  {
   "cell_type": "code",
   "execution_count": null,
   "metadata": {
    "collapsed": false
   },
   "outputs": [],
   "source": [
    "%%sql \n",
    "select user_to, substr(date,1,8) as date2, count(tran_key) as tran_count, sum(value) as tran_amount \n",
    "from user_edges \n",
    "group by user_to, substr(date,1,8) \n",
    "order by count(tran_key) desc\n",
    "limit 10;"
   ]
  },
  {
   "cell_type": "code",
   "execution_count": 124,
   "metadata": {
    "collapsed": false
   },
   "outputs": [
    {
     "data": {
      "text/html": [
       "<table>\n",
       "    <tr>\n",
       "        <th>user_to</th>\n",
       "        <th>date</th>\n",
       "        <th>tran_count</th>\n",
       "    </tr>\n",
       "    <tr>\n",
       "        <td>395305</td>\n",
       "        <td>20110904032238</td>\n",
       "        <td>12065</td>\n",
       "    </tr>\n",
       "    <tr>\n",
       "        <td>395305</td>\n",
       "        <td>20110904043054</td>\n",
       "        <td>11590</td>\n",
       "    </tr>\n",
       "    <tr>\n",
       "        <td>395305</td>\n",
       "        <td>20110904023644</td>\n",
       "        <td>10450</td>\n",
       "    </tr>\n",
       "    <tr>\n",
       "        <td>395305</td>\n",
       "        <td>20110904021239</td>\n",
       "        <td>8740</td>\n",
       "    </tr>\n",
       "    <tr>\n",
       "        <td>395305</td>\n",
       "        <td>20110904010133</td>\n",
       "        <td>8367</td>\n",
       "    </tr>\n",
       "</table>"
      ],
      "text/plain": [
       "[(u'395305', u'20110904032238', 12065),\n",
       " (u'395305', u'20110904043054', 11590),\n",
       " (u'395305', u'20110904023644', 10450),\n",
       " (u'395305', u'20110904021239', 8740),\n",
       " (u'395305', u'20110904010133', 8367)]"
      ]
     },
     "execution_count": 124,
     "metadata": {},
     "output_type": "execute_result"
    }
   ],
   "source": [
    "%%sql \n",
    "select user_to, date, count(tran_key) as tran_count \n",
    "from user_edges \n",
    "group by user_to, date \n",
    "order by count(tran_key) desc\n",
    "limit 5;"
   ]
  },
  {
   "cell_type": "code",
   "execution_count": 126,
   "metadata": {
    "collapsed": false
   },
   "outputs": [],
   "source": [
    "%sql select * from from_count_day limit 10;"
   ]
  },
  {
   "cell_type": "code",
   "execution_count": 1,
   "metadata": {
    "collapsed": false
   },
   "outputs": [
    {
     "name": "stderr",
     "output_type": "stream",
     "text": [
      "ERROR: Cell magic `%%sql` not found.\n"
     ]
    }
   ],
   "source": [
    "%%sql \n",
    "\n",
    "select *\n",
    "from (\n",
    "select user_from, substr(date,1,8), count(tran_key) as tran_count \n",
    "from user_edges \n",
    "group by user_from, date \n",
    "order by count(tran_key) desc\n",
    "limit 100) as a inner join\n",
    "\n",
    "(select user_to, date, count(tran_key) as tran_count \n",
    "from user_edges \n",
    "group by user_to, date \n",
    "order by count(tran_key) desc\n",
    "limit 100) as b on a.user_from = b.user_to;\n",
    "\n"
   ]
  },
  {
   "cell_type": "code",
   "execution_count": 2,
   "metadata": {
    "collapsed": false
   },
   "outputs": [
    {
     "ename": "NameError",
     "evalue": "name 'pd' is not defined",
     "output_type": "error",
     "traceback": [
      "\u001b[0;31m---------------------------------------------------------------------------\u001b[0m",
      "\u001b[0;31mNameError\u001b[0m                                 Traceback (most recent call last)",
      "\u001b[0;32m<ipython-input-2-826e8f15ab81>\u001b[0m in \u001b[0;36m<module>\u001b[0;34m()\u001b[0m\n\u001b[0;32m----> 1\u001b[0;31m \u001b[0mfrom_day\u001b[0m \u001b[0;34m=\u001b[0m \u001b[0mpd\u001b[0m\u001b[0;34m.\u001b[0m\u001b[0mread_csv\u001b[0m\u001b[0;34m(\u001b[0m\u001b[0;34m'/Users/xxx'\u001b[0m\u001b[0;34m,\u001b[0m \u001b[0mheader\u001b[0m \u001b[0;34m=\u001b[0m \u001b[0mNone\u001b[0m\u001b[0;34m)\u001b[0m\u001b[0;34m\u001b[0m\u001b[0m\n\u001b[0m\u001b[1;32m      2\u001b[0m \u001b[0mfrom_day\u001b[0m\u001b[0;34m.\u001b[0m\u001b[0mcolumns\u001b[0m \u001b[0;34m=\u001b[0m \u001b[0;34m[\u001b[0m\u001b[0;34m'user_ID'\u001b[0m\u001b[0;34m,\u001b[0m\u001b[0;34m'date'\u001b[0m\u001b[0;34m,\u001b[0m \u001b[0;34m'count_from'\u001b[0m\u001b[0;34m,\u001b[0m\u001b[0;34m'amount_from'\u001b[0m\u001b[0;34m]\u001b[0m\u001b[0;34m\u001b[0m\u001b[0m\n\u001b[1;32m      3\u001b[0m \u001b[0;34m\u001b[0m\u001b[0m\n\u001b[1;32m      4\u001b[0m \u001b[0mto_day\u001b[0m \u001b[0;34m=\u001b[0m \u001b[0mpd\u001b[0m\u001b[0;34m.\u001b[0m\u001b[0mread_csv\u001b[0m\u001b[0;34m(\u001b[0m\u001b[0;34m'/Users/xxx'\u001b[0m\u001b[0;34m,\u001b[0m \u001b[0mheader\u001b[0m \u001b[0;34m=\u001b[0m \u001b[0mNone\u001b[0m\u001b[0;34m)\u001b[0m\u001b[0;34m\u001b[0m\u001b[0m\n\u001b[1;32m      5\u001b[0m \u001b[0mto_day\u001b[0m\u001b[0;34m.\u001b[0m\u001b[0mcolumns\u001b[0m \u001b[0;34m=\u001b[0m \u001b[0;34m[\u001b[0m\u001b[0;34m'user_ID'\u001b[0m\u001b[0;34m,\u001b[0m\u001b[0;34m'date'\u001b[0m\u001b[0;34m,\u001b[0m \u001b[0;34m'count_to'\u001b[0m\u001b[0;34m,\u001b[0m\u001b[0;34m'amount_to'\u001b[0m\u001b[0;34m]\u001b[0m\u001b[0;34m\u001b[0m\u001b[0m\n",
      "\u001b[0;31mNameError\u001b[0m: name 'pd' is not defined"
     ]
    }
   ],
   "source": [
    "from_day = pd.read_csv('/Users/xxx', header = None)\n",
    "from_day.columns = ['user_ID','date', 'count_from','amount_from']\n",
    "\n",
    "to_day = pd.read_csv('/Users/xxx', header = None)\n",
    "to_day.columns = ['user_ID','date', 'count_to','amount_to']\n"
   ]
  },
  {
   "cell_type": "code",
   "execution_count": 2,
   "metadata": {
    "collapsed": false
   },
   "outputs": [
    {
     "ename": "NameError",
     "evalue": "name 'from_day' is not defined",
     "output_type": "error",
     "traceback": [
      "\u001b[0;31m---------------------------------------------------------------------------\u001b[0m\n\u001b[0;31mNameError\u001b[0m                                 Traceback (most recent call last)",
      "\u001b[0;32m<ipython-input-2-16dfb6239beb>\u001b[0m in \u001b[0;36m<module>\u001b[0;34m()\u001b[0m\n\u001b[0;32m----> 1\u001b[0;31m \u001b[0mfrom_amount\u001b[0m \u001b[0;34m=\u001b[0m \u001b[0mfrom_day\u001b[0m\u001b[0;34m[\u001b[0m\u001b[0;34m'amount_from'\u001b[0m\u001b[0;34m]\u001b[0m\u001b[0;34m\u001b[0m\u001b[0m\n\u001b[0m\u001b[1;32m      2\u001b[0m \u001b[0mfrom_count\u001b[0m \u001b[0;34m=\u001b[0m \u001b[0mfrom_day\u001b[0m\u001b[0;34m[\u001b[0m\u001b[0;34m'count_from'\u001b[0m\u001b[0;34m]\u001b[0m\u001b[0;34m\u001b[0m\u001b[0m\n\u001b[1;32m      3\u001b[0m \u001b[0;34m\u001b[0m\u001b[0m\n\u001b[1;32m      4\u001b[0m \u001b[0mto_amount\u001b[0m \u001b[0;34m=\u001b[0m \u001b[0mto_day\u001b[0m\u001b[0;34m[\u001b[0m\u001b[0;34m'amount_to'\u001b[0m\u001b[0;34m]\u001b[0m\u001b[0;34m\u001b[0m\u001b[0m\n\u001b[1;32m      5\u001b[0m \u001b[0mto_count\u001b[0m \u001b[0;34m=\u001b[0m \u001b[0mto_day\u001b[0m\u001b[0;34m[\u001b[0m\u001b[0;34m'count_to'\u001b[0m\u001b[0;34m]\u001b[0m\u001b[0;34m\u001b[0m\u001b[0m\n",
      "\u001b[0;31mNameError\u001b[0m: name 'from_day' is not defined"
     ]
    }
   ],
   "source": [
    "from_amount = from_day['amount_from']\n",
    "from_count = from_day['count_from']\n",
    "\n",
    "to_amount = to_day['amount_to']\n",
    "to_count = to_day['count_to']"
   ]
  },
  {
   "cell_type": "code",
   "execution_count": 1,
   "metadata": {
    "collapsed": false
   },
   "outputs": [
    {
     "ename": "NameError",
     "evalue": "name 'from_amount' is not defined",
     "output_type": "error",
     "traceback": [
      "\u001b[0;31m---------------------------------------------------------------------------\u001b[0m\n\u001b[0;31mNameError\u001b[0m                                 Traceback (most recent call last)",
      "\u001b[0;32m<ipython-input-1-6044a33e28ba>\u001b[0m in \u001b[0;36m<module>\u001b[0;34m()\u001b[0m\n\u001b[0;32m----> 1\u001b[0;31m \u001b[0mtype\u001b[0m\u001b[0;34m(\u001b[0m\u001b[0mfrom_amount\u001b[0m\u001b[0;34m)\u001b[0m\u001b[0;34m\u001b[0m\u001b[0m\n\u001b[0m",
      "\u001b[0;31mNameError\u001b[0m: name 'from_amount' is not defined"
     ]
    }
   ],
   "source": [
    "type(from_amount)"
   ]
  },
  {
   "cell_type": "code",
   "execution_count": 16,
   "metadata": {
    "collapsed": false
   },
   "outputs": [
    {
     "data": {
      "text/plain": [
       "<matplotlib.text.Text at 0x10979de50>"
      ]
     },
     "execution_count": 16,
     "metadata": {},
     "output_type": "execute_result"
    },
    {
     "data": {
      "image/png": "[encoded data removed]",
      "text/plain": [
       "<matplotlib.figure.Figure at 0x109746450>"
      ]
     },
     "metadata": {},
     "output_type": "display_data"
    }
   ],
   "source": [
    "from_amount.hist(bins=50,range=[0, 200])\n",
    "#from_count.hist()\n",
    "#to_mean.hist()\n",
    "#to_count.hist()\n",
    "\n",
    "plt.xlabel('Transaction amount')\n",
    "plt.ylabel('Senders')\n",
    "plt.title('Bitcoin outgoing daily transaction amount')\n",
    "#plt.text(60, .025, r'$\\mu=100,\\ \\sigma=15$')\n",
    "#plt.axis([40, 160, 0, 0.03])\n",
    "#plt.grid(True)\n",
    "#plt.show()"
   ]
  },
  {
   "cell_type": "code",
   "execution_count": 17,
   "metadata": {
    "collapsed": false
   },
   "outputs": [
    {
     "data": {
      "text/plain": [
       "<matplotlib.text.Text at 0x109bcbad0>"
      ]
     },
     "execution_count": 17,
     "metadata": {},
     "output_type": "execute_result"
    },
    {
     "data": {
      "image/png": "[encoded data removed]",
      "text/plain": [
       "<matplotlib.figure.Figure at 0x109ad43d0>"
      ]
     },
     "metadata": {},
     "output_type": "display_data"
    }
   ],
   "source": [
    "#from_mean.hist(bins=50,range=[0, 100])\n",
    "from_count.hist(bins=50,range=[0, 10])\n",
    "#to_mean.hist()\n",
    "#to_count.hist()\n",
    "\n",
    "plt.xlabel('Transaction count')\n",
    "plt.ylabel('Senders')\n",
    "plt.title('Bitcoin outgoing daily transaction count')"
   ]
  },
  {
   "cell_type": "code",
   "execution_count": 20,
   "metadata": {
    "collapsed": false
   },
   "outputs": [
    {
     "data": {
      "text/plain": [
       "<matplotlib.text.Text at 0x10c4b6dd0>"
      ]
     },
     "execution_count": 20,
     "metadata": {},
     "output_type": "execute_result"
    },
    {
     "data": {
      "image/png": "[encoded data removed]",
      "text/plain": [
       "<matplotlib.figure.Figure at 0x109ae6f90>"
      ]
     },
     "metadata": {},
     "output_type": "display_data"
    }
   ],
   "source": [
    "#from_mean.hist(bins=50,range=[0, 100])\n",
    "#from_count.hist(bins=50,range=[0, 20])\n",
    "to_amount.hist(bins=50,range=[0, 200])\n",
    "#to_count.hist()\n",
    "\n",
    "plt.xlabel('Transaction amount')\n",
    "plt.ylabel('Recipients')\n",
    "plt.title('Bitcoin incoming daily transaction amount')"
   ]
  },
  {
   "cell_type": "code",
   "execution_count": 19,
   "metadata": {
    "collapsed": false
   },
   "outputs": [
    {
     "data": {
      "text/plain": [
       "<matplotlib.text.Text at 0x10bfd9850>"
      ]
     },
     "execution_count": 19,
     "metadata": {},
     "output_type": "execute_result"
    },
    {
     "data": {
      "image/png": "[encoded data removed]",
      "text/plain": [
       "<matplotlib.figure.Figure at 0x10bf44550>"
      ]
     },
     "metadata": {},
     "output_type": "display_data"
    }
   ],
   "source": [
    "#from_mean.hist(bins=50,range=[0, 100])\n",
    "#from_count.hist(bins=50,range=[0, 20])\n",
    "#to_mean.hist(bins=50,range=[0, 100])\n",
    "to_count.hist(bins=50,range=[0, 10])\n",
    "\n",
    "plt.xlabel('Transaction count')\n",
    "plt.ylabel('Recipients')\n",
    "plt.title('Bitcoin incoming daily transaction count')"
   ]
  },
  {
   "cell_type": "code",
   "execution_count": 6,
   "metadata": {
    "collapsed": false
   },
   "outputs": [
    {
     "data": {
      "text/html": [
       "<div style=\"max-height:1000px;max-width:1500px;overflow:auto;\">\n",
       "<table border=\"1\" class=\"dataframe\">\n",
       "  <thead>\n",
       "    <tr style=\"text-align: right;\">\n",
       "      <th></th>\n",
       "      <th>user_ID</th>\n",
       "      <th>date</th>\n",
       "      <th>count_from</th>\n",
       "      <th>amount_from</th>\n",
       "    </tr>\n",
       "  </thead>\n",
       "  <tbody>\n",
       "    <tr>\n",
       "      <th>count</th>\n",
       "      <td> 4740227.000000</td>\n",
       "      <td>  4740227.000000</td>\n",
       "      <td> 4740227.000000</td>\n",
       "      <td> 4740227.000000</td>\n",
       "    </tr>\n",
       "    <tr>\n",
       "      <th>mean</th>\n",
       "      <td> 2095494.027619</td>\n",
       "      <td> 20117025.320442</td>\n",
       "      <td>       5.317313</td>\n",
       "      <td>     265.535315</td>\n",
       "    </tr>\n",
       "    <tr>\n",
       "      <th>std</th>\n",
       "      <td> 1468036.857453</td>\n",
       "      <td>     5924.198573</td>\n",
       "      <td>     161.568406</td>\n",
       "      <td>    4895.464195</td>\n",
       "    </tr>\n",
       "    <tr>\n",
       "      <th>min</th>\n",
       "      <td>       1.000000</td>\n",
       "      <td> 20090103.000000</td>\n",
       "      <td>       1.000000</td>\n",
       "      <td>       0.000000</td>\n",
       "    </tr>\n",
       "    <tr>\n",
       "      <th>25%</th>\n",
       "      <td>  720765.000000</td>\n",
       "      <td> 20110901.000000</td>\n",
       "      <td>       2.000000</td>\n",
       "      <td>       1.999500</td>\n",
       "    </tr>\n",
       "    <tr>\n",
       "      <th>50%</th>\n",
       "      <td> 2042702.000000</td>\n",
       "      <td> 20120611.000000</td>\n",
       "      <td>       2.000000</td>\n",
       "      <td>      13.877818</td>\n",
       "    </tr>\n",
       "    <tr>\n",
       "      <th>75%</th>\n",
       "      <td> 3307387.500000</td>\n",
       "      <td> 20120919.000000</td>\n",
       "      <td>       2.000000</td>\n",
       "      <td>      48.991000</td>\n",
       "    </tr>\n",
       "    <tr>\n",
       "      <th>99.9%</th>\n",
       "      <td> 4886930.774000</td>\n",
       "      <td> 20130106.000000</td>\n",
       "      <td>     460.774000</td>\n",
       "      <td>   37342.138636</td>\n",
       "    </tr>\n",
       "    <tr>\n",
       "      <th>max</th>\n",
       "      <td> 4892708.000000</td>\n",
       "      <td> 20130107.000000</td>\n",
       "      <td>   65470.000000</td>\n",
       "      <td> 3580435.348969</td>\n",
       "    </tr>\n",
       "  </tbody>\n",
       "</table>\n",
       "</div>"
      ],
      "text/plain": [
       "              user_ID             date      count_from     amount_from\n",
       "count  4740227.000000   4740227.000000  4740227.000000  4740227.000000\n",
       "mean   2095494.027619  20117025.320442        5.317313      265.535315\n",
       "std    1468036.857453      5924.198573      161.568406     4895.464195\n",
       "min          1.000000  20090103.000000        1.000000        0.000000\n",
       "25%     720765.000000  20110901.000000        2.000000        1.999500\n",
       "50%    2042702.000000  20120611.000000        2.000000       13.877818\n",
       "75%    3307387.500000  20120919.000000        2.000000       48.991000\n",
       "99.9%  4886930.774000  20130106.000000      460.774000    37342.138636\n",
       "max    4892708.000000  20130107.000000    65470.000000  3580435.348969"
      ]
     },
     "execution_count": 6,
     "metadata": {},
     "output_type": "execute_result"
    }
   ],
   "source": [
    "from_day.describe(percentiles=[0.25,0.5,0.75,0.999]) # set count threshold at 500 and amount threshold at 40,000"
   ]
  },
  {
   "cell_type": "code",
   "execution_count": 165,
   "metadata": {
    "collapsed": false
   },
   "outputs": [
    {
     "data": {
      "text/html": [
       "<div style=\"max-height:1000px;max-width:1500px;overflow:auto;\">\n",
       "<table border=\"1\" class=\"dataframe\">\n",
       "  <thead>\n",
       "    <tr style=\"text-align: right;\">\n",
       "      <th></th>\n",
       "      <th>user_ID</th>\n",
       "      <th>date</th>\n",
       "      <th>count_to</th>\n",
       "      <th>amount_to</th>\n",
       "    </tr>\n",
       "  </thead>\n",
       "  <tbody>\n",
       "    <tr>\n",
       "      <th>count</th>\n",
       "      <td> 7982413.000000</td>\n",
       "      <td>  7982413.000000</td>\n",
       "      <td> 7982413.000000</td>\n",
       "      <td> 7982413.000000</td>\n",
       "    </tr>\n",
       "    <tr>\n",
       "      <th>mean</th>\n",
       "      <td> 1749795.617221</td>\n",
       "      <td> 20116914.015402</td>\n",
       "      <td>       3.157600</td>\n",
       "      <td>     157.683857</td>\n",
       "    </tr>\n",
       "    <tr>\n",
       "      <th>std</th>\n",
       "      <td> 1558065.878432</td>\n",
       "      <td>     5664.177830</td>\n",
       "      <td>     125.498612</td>\n",
       "      <td>    3808.585606</td>\n",
       "    </tr>\n",
       "    <tr>\n",
       "      <th>min</th>\n",
       "      <td>       1.000000</td>\n",
       "      <td> 20090103.000000</td>\n",
       "      <td>       1.000000</td>\n",
       "      <td>       0.000000</td>\n",
       "    </tr>\n",
       "    <tr>\n",
       "      <th>25%</th>\n",
       "      <td>  290056.000000</td>\n",
       "      <td> 20110825.000000</td>\n",
       "      <td>       1.000000</td>\n",
       "      <td>       0.114465</td>\n",
       "    </tr>\n",
       "    <tr>\n",
       "      <th>50%</th>\n",
       "      <td> 1353080.000000</td>\n",
       "      <td> 20120504.000000</td>\n",
       "      <td>       1.000000</td>\n",
       "      <td>       1.854551</td>\n",
       "    </tr>\n",
       "    <tr>\n",
       "      <th>75%</th>\n",
       "      <td> 3114839.000000</td>\n",
       "      <td> 20120917.000000</td>\n",
       "      <td>       1.000000</td>\n",
       "      <td>      19.848500</td>\n",
       "    </tr>\n",
       "    <tr>\n",
       "      <th>99.9%</th>\n",
       "      <td> 4885041.588000</td>\n",
       "      <td> 20130106.000000</td>\n",
       "      <td>     210.000000</td>\n",
       "      <td>   26316.527179</td>\n",
       "    </tr>\n",
       "    <tr>\n",
       "      <th>max</th>\n",
       "      <td> 4892708.000000</td>\n",
       "      <td> 20130107.000000</td>\n",
       "      <td>   66983.000000</td>\n",
       "      <td> 3576249.243344</td>\n",
       "    </tr>\n",
       "  </tbody>\n",
       "</table>\n",
       "</div>"
      ],
      "text/plain": [
       "              user_ID             date        count_to       amount_to\n",
       "count  7982413.000000   7982413.000000  7982413.000000  7982413.000000\n",
       "mean   1749795.617221  20116914.015402        3.157600      157.683857\n",
       "std    1558065.878432      5664.177830      125.498612     3808.585606\n",
       "min          1.000000  20090103.000000        1.000000        0.000000\n",
       "25%     290056.000000  20110825.000000        1.000000        0.114465\n",
       "50%    1353080.000000  20120504.000000        1.000000        1.854551\n",
       "75%    3114839.000000  20120917.000000        1.000000       19.848500\n",
       "99.9%  4885041.588000  20130106.000000      210.000000    26316.527179\n",
       "max    4892708.000000  20130107.000000    66983.000000  3576249.243344"
      ]
     },
     "execution_count": 165,
     "metadata": {},
     "output_type": "execute_result"
    }
   ],
   "source": [
    "to_day.describe(percentiles=[0.25,0.5,0.75,0.999]) # set count threshold at 200 and amount threshold at 30000"
   ]
  },
  {
   "cell_type": "code",
   "execution_count": 23,
   "metadata": {
    "collapsed": false
   },
   "outputs": [],
   "source": [
    "from2 = from_day.loc[(from_day['count_from'] > 500)&(from_day['amount_from'] > 40000) ]\n",
    "\n",
    "to2 = to_day.loc[(to_day['count_to'] > 200)&(to_day['amount_to'] > 30000) ]"
   ]
  },
  {
   "cell_type": "code",
   "execution_count": 24,
   "metadata": {
    "collapsed": false
   },
   "outputs": [],
   "source": [
    "result = pd.merge(from2,to2,on=('user_ID','date'))"
   ]
  },
  {
   "cell_type": "code",
   "execution_count": 25,
   "metadata": {
    "collapsed": false
   },
   "outputs": [
    {
     "data": {
      "text/html": [
       "<div style=\"max-height:1000px;max-width:1500px;overflow:auto;\">\n",
       "<table border=\"1\" class=\"dataframe\">\n",
       "  <thead>\n",
       "    <tr style=\"text-align: right;\">\n",
       "      <th></th>\n",
       "      <th>user_ID</th>\n",
       "      <th>date</th>\n",
       "      <th>count_from</th>\n",
       "      <th>amount_from</th>\n",
       "      <th>count_to</th>\n",
       "      <th>amount_to</th>\n",
       "    </tr>\n",
       "  </thead>\n",
       "  <tbody>\n",
       "    <tr>\n",
       "      <th>0</th>\n",
       "      <td> 6</td>\n",
       "      <td> 20120815</td>\n",
       "      <td> 38710</td>\n",
       "      <td> 42822.488872</td>\n",
       "      <td> 38734</td>\n",
       "      <td> 42746.886142</td>\n",
       "    </tr>\n",
       "    <tr>\n",
       "      <th>1</th>\n",
       "      <td> 6</td>\n",
       "      <td> 20121222</td>\n",
       "      <td> 36671</td>\n",
       "      <td> 46909.253576</td>\n",
       "      <td> 36726</td>\n",
       "      <td> 48115.514580</td>\n",
       "    </tr>\n",
       "    <tr>\n",
       "      <th>2</th>\n",
       "      <td> 6</td>\n",
       "      <td> 20121227</td>\n",
       "      <td> 35094</td>\n",
       "      <td> 46222.975759</td>\n",
       "      <td> 35105</td>\n",
       "      <td> 47100.031094</td>\n",
       "    </tr>\n",
       "    <tr>\n",
       "      <th>3</th>\n",
       "      <td> 6</td>\n",
       "      <td> 20120604</td>\n",
       "      <td> 34450</td>\n",
       "      <td> 43398.457874</td>\n",
       "      <td> 34805</td>\n",
       "      <td> 44657.134304</td>\n",
       "    </tr>\n",
       "    <tr>\n",
       "      <th>4</th>\n",
       "      <td> 6</td>\n",
       "      <td> 20121209</td>\n",
       "      <td> 34008</td>\n",
       "      <td> 49055.580327</td>\n",
       "      <td> 37451</td>\n",
       "      <td> 49332.119705</td>\n",
       "    </tr>\n",
       "  </tbody>\n",
       "</table>\n",
       "</div>"
      ],
      "text/plain": [
       "   user_ID      date  count_from   amount_from  count_to     amount_to\n",
       "0        6  20120815       38710  42822.488872     38734  42746.886142\n",
       "1        6  20121222       36671  46909.253576     36726  48115.514580\n",
       "2        6  20121227       35094  46222.975759     35105  47100.031094\n",
       "3        6  20120604       34450  43398.457874     34805  44657.134304\n",
       "4        6  20121209       34008  49055.580327     37451  49332.119705"
      ]
     },
     "execution_count": 25,
     "metadata": {},
     "output_type": "execute_result"
    }
   ],
   "source": [
    "result.head()"
   ]
  },
  {
   "cell_type": "code",
   "execution_count": 26,
   "metadata": {
    "collapsed": false
   },
   "outputs": [
    {
     "data": {
      "text/plain": [
       "             user_ID\n",
       "date  count  6           39\n",
       "             13           2\n",
       "             30         125\n",
       "             34         340\n",
       "             2368         5\n",
       "             14253        1\n",
       "             63629        2\n",
       "             122788       1\n",
       "             127242       1\n",
       "             128773       1\n",
       "             153863       1\n",
       "             168718       1\n",
       "             186937       1\n",
       "             187667       1\n",
       "             188087       1\n",
       "             230171       1\n",
       "             241787       1\n",
       "             502408       1\n",
       "             533775       1\n",
       "             583228       1\n",
       "dtype: int64"
      ]
     },
     "execution_count": 26,
     "metadata": {},
     "output_type": "execute_result"
    }
   ],
   "source": [
    "result[['user_ID', 'date']].groupby(['user_ID'], as_index=False).agg(['count']).unstack()\n",
    "# user_ID's  34, 30, and 6 are suspicious"
   ]
  },
  {
   "cell_type": "code",
   "execution_count": 27,
   "metadata": {
    "collapsed": false
   },
   "outputs": [
    {
     "data": {
      "text/plain": [
       "array([     6, 128773, 186937, 502408, 187667,     34,     30, 127242,\n",
       "       241787, 188087,   2368,  63629, 168718, 533775, 230171,  14253,\n",
       "       153863,     13, 122788, 583228])"
      ]
     },
     "execution_count": 27,
     "metadata": {},
     "output_type": "execute_result"
    }
   ],
   "source": [
    "#result.loc[result['date_y']-result['date_x']<1]\n",
    "result['user_ID'].unique() # these ID's are worth investigating"
   ]
  },
  {
   "cell_type": "code",
   "execution_count": 28,
   "metadata": {
    "collapsed": false
   },
   "outputs": [
    {
     "data": {
      "text/html": [
       "<div style=\"max-height:1000px;max-width:1500px;overflow:auto;\">\n",
       "<table border=\"1\" class=\"dataframe\">\n",
       "  <thead>\n",
       "    <tr style=\"text-align: right;\">\n",
       "      <th></th>\n",
       "      <th>user_ID</th>\n",
       "      <th>date</th>\n",
       "      <th>count_from</th>\n",
       "      <th>amount_from</th>\n",
       "      <th>count_to</th>\n",
       "      <th>amount_to</th>\n",
       "      <th>date2</th>\n",
       "    </tr>\n",
       "  </thead>\n",
       "  <tbody>\n",
       "    <tr>\n",
       "      <th>6 </th>\n",
       "      <td> 6</td>\n",
       "      <td> 20120603</td>\n",
       "      <td> 33223</td>\n",
       "      <td> 60242.022557</td>\n",
       "      <td> 33004</td>\n",
       "      <td> 58813.860798</td>\n",
       "      <td>2012-06-03</td>\n",
       "    </tr>\n",
       "    <tr>\n",
       "      <th>3 </th>\n",
       "      <td> 6</td>\n",
       "      <td> 20120604</td>\n",
       "      <td> 34450</td>\n",
       "      <td> 43398.457874</td>\n",
       "      <td> 34805</td>\n",
       "      <td> 44657.134304</td>\n",
       "      <td>2012-06-04</td>\n",
       "    </tr>\n",
       "    <tr>\n",
       "      <th>30</th>\n",
       "      <td> 6</td>\n",
       "      <td> 20120728</td>\n",
       "      <td> 21581</td>\n",
       "      <td> 46201.610892</td>\n",
       "      <td> 21636</td>\n",
       "      <td> 47207.562095</td>\n",
       "      <td>2012-07-28</td>\n",
       "    </tr>\n",
       "    <tr>\n",
       "      <th>28</th>\n",
       "      <td> 6</td>\n",
       "      <td> 20120730</td>\n",
       "      <td> 22109</td>\n",
       "      <td> 51495.026317</td>\n",
       "      <td> 22124</td>\n",
       "      <td> 51724.009203</td>\n",
       "      <td>2012-07-30</td>\n",
       "    </tr>\n",
       "    <tr>\n",
       "      <th>15</th>\n",
       "      <td> 6</td>\n",
       "      <td> 20120814</td>\n",
       "      <td> 27009</td>\n",
       "      <td> 47137.474847</td>\n",
       "      <td> 27148</td>\n",
       "      <td> 49760.689463</td>\n",
       "      <td>2012-08-14</td>\n",
       "    </tr>\n",
       "  </tbody>\n",
       "</table>\n",
       "</div>"
      ],
      "text/plain": [
       "    user_ID      date  count_from   amount_from  count_to     amount_to  \\\n",
       "6         6  20120603       33223  60242.022557     33004  58813.860798   \n",
       "3         6  20120604       34450  43398.457874     34805  44657.134304   \n",
       "30        6  20120728       21581  46201.610892     21636  47207.562095   \n",
       "28        6  20120730       22109  51495.026317     22124  51724.009203   \n",
       "15        6  20120814       27009  47137.474847     27148  49760.689463   \n",
       "\n",
       "        date2  \n",
       "6  2012-06-03  \n",
       "3  2012-06-04  \n",
       "30 2012-07-28  \n",
       "28 2012-07-30  \n",
       "15 2012-08-14  "
      ]
     },
     "execution_count": 28,
     "metadata": {},
     "output_type": "execute_result"
    }
   ],
   "source": [
    "result6 = result.loc[(result['user_ID'] == 6) ]\n",
    "df = result6.sort(['date'])\n",
    "df['date2'] = pd.to_datetime(df['date'], format=\"%Y%m%d\")\n",
    "df.head()"
   ]
  },
  {
   "cell_type": "code",
   "execution_count": 32,
   "metadata": {
    "collapsed": false
   },
   "outputs": [
    {
     "data": {
      "text/plain": [
       "<matplotlib.text.Text at 0x10dc7d0d0>"
      ]
     },
     "execution_count": 32,
     "metadata": {},
     "output_type": "execute_result"
    },
    {
     "data": {
      "image/png": "[encoded data removed]",
      "text/plain": [
       "<matplotlib.figure.Figure at 0x10dc01fd0>"
      ]
     },
     "metadata": {},
     "output_type": "display_data"
    }
   ],
   "source": [
    "df.plot(x='date2', y=['amount_from', 'amount_to'],legend=True).legend(loc='best')\n",
    "\n",
    "plt.xlabel('Date')\n",
    "plt.ylabel('Daily Transaction Amount')\n",
    "plt.title('Incoming and outgoing transaction amount')"
   ]
  },
  {
   "cell_type": "code",
   "execution_count": 33,
   "metadata": {
    "collapsed": false
   },
   "outputs": [
    {
     "data": {
      "text/plain": [
       "<matplotlib.text.Text at 0x113e832d0>"
      ]
     },
     "execution_count": 33,
     "metadata": {},
     "output_type": "execute_result"
    },
    {
     "data": {
      "image/png": "[encoded data removed]",
      "text/plain": [
       "<matplotlib.figure.Figure at 0x113cb0610>"
      ]
     },
     "metadata": {},
     "output_type": "display_data"
    }
   ],
   "source": [
    "df.plot(x='date2', y=['count_from', 'count_to']).legend(loc='best')\n",
    "\n",
    "plt.xlabel('Date')\n",
    "plt.ylabel('Daily Transaction Count')\n",
    "plt.title('Incoming and outgoing transaction count')\n"
   ]
  },
  {
   "cell_type": "code",
   "execution_count": 273,
   "metadata": {
    "collapsed": false
   },
   "outputs": [
    {
     "data": {
      "text/html": [
       "<div style=\"max-height:1000px;max-width:1500px;overflow:auto;\">\n",
       "<table border=\"1\" class=\"dataframe\">\n",
       "  <thead>\n",
       "    <tr style=\"text-align: right;\">\n",
       "      <th></th>\n",
       "      <th>tran_key</th>\n",
       "      <th>user_from</th>\n",
       "      <th>user_to</th>\n",
       "      <th>date</th>\n",
       "      <th>value</th>\n",
       "    </tr>\n",
       "  </thead>\n",
       "  <tbody>\n",
       "    <tr>\n",
       "      <th>0</th>\n",
       "      <td> 1</td>\n",
       "      <td>      2</td>\n",
       "      <td>      2</td>\n",
       "      <td> 20130107022317</td>\n",
       "      <td>  25.058500</td>\n",
       "    </tr>\n",
       "    <tr>\n",
       "      <th>1</th>\n",
       "      <td> 2</td>\n",
       "      <td> 527164</td>\n",
       "      <td>    756</td>\n",
       "      <td> 20130106173619</td>\n",
       "      <td>   0.001600</td>\n",
       "    </tr>\n",
       "    <tr>\n",
       "      <th>2</th>\n",
       "      <td> 2</td>\n",
       "      <td> 527164</td>\n",
       "      <td> 507666</td>\n",
       "      <td> 20130106173619</td>\n",
       "      <td> 425.439860</td>\n",
       "    </tr>\n",
       "    <tr>\n",
       "      <th>3</th>\n",
       "      <td> 3</td>\n",
       "      <td> 507666</td>\n",
       "      <td> 507667</td>\n",
       "      <td> 20130107022317</td>\n",
       "      <td> 425.435360</td>\n",
       "    </tr>\n",
       "    <tr>\n",
       "      <th>4</th>\n",
       "      <td> 3</td>\n",
       "      <td> 507666</td>\n",
       "      <td>      3</td>\n",
       "      <td> 20130107022317</td>\n",
       "      <td>   0.004000</td>\n",
       "    </tr>\n",
       "    <tr>\n",
       "      <th>5</th>\n",
       "      <td> 4</td>\n",
       "      <td>   3016</td>\n",
       "      <td> 507668</td>\n",
       "      <td> 20130106123044</td>\n",
       "      <td> 259.377577</td>\n",
       "    </tr>\n",
       "    <tr>\n",
       "      <th>6</th>\n",
       "      <td> 4</td>\n",
       "      <td>   3016</td>\n",
       "      <td>     13</td>\n",
       "      <td> 20130106123044</td>\n",
       "      <td>  35.381460</td>\n",
       "    </tr>\n",
       "    <tr>\n",
       "      <th>7</th>\n",
       "      <td> 5</td>\n",
       "      <td> 507668</td>\n",
       "      <td>      3</td>\n",
       "      <td> 20130107022317</td>\n",
       "      <td>   0.008000</td>\n",
       "    </tr>\n",
       "    <tr>\n",
       "      <th>8</th>\n",
       "      <td> 5</td>\n",
       "      <td> 507668</td>\n",
       "      <td> 507669</td>\n",
       "      <td> 20130107022317</td>\n",
       "      <td> 259.369077</td>\n",
       "    </tr>\n",
       "    <tr>\n",
       "      <th>9</th>\n",
       "      <td> 6</td>\n",
       "      <td> 555857</td>\n",
       "      <td> 555858</td>\n",
       "      <td> 20130105181211</td>\n",
       "      <td>   0.001600</td>\n",
       "    </tr>\n",
       "  </tbody>\n",
       "</table>\n",
       "</div>"
      ],
      "text/plain": [
       "   tran_key  user_from  user_to            date       value\n",
       "0         1          2        2  20130107022317   25.058500\n",
       "1         2     527164      756  20130106173619    0.001600\n",
       "2         2     527164   507666  20130106173619  425.439860\n",
       "3         3     507666   507667  20130107022317  425.435360\n",
       "4         3     507666        3  20130107022317    0.004000\n",
       "5         4       3016   507668  20130106123044  259.377577\n",
       "6         4       3016       13  20130106123044   35.381460\n",
       "7         5     507668        3  20130107022317    0.008000\n",
       "8         5     507668   507669  20130107022317  259.369077\n",
       "9         6     555857   555858  20130105181211    0.001600"
      ]
     },
     "execution_count": 273,
     "metadata": {},
     "output_type": "execute_result"
    }
   ],
   "source": [
    "data[:10]"
   ]
  },
  {
   "cell_type": "code",
   "execution_count": 283,
   "metadata": {
    "collapsed": false
   },
   "outputs": [
    {
     "data": {
      "text/html": [
       "<div style=\"max-height:1000px;max-width:1500px;overflow:auto;\">\n",
       "<table border=\"1\" class=\"dataframe\">\n",
       "  <thead>\n",
       "    <tr style=\"text-align: right;\">\n",
       "      <th></th>\n",
       "      <th>tran_key</th>\n",
       "      <th>user_from</th>\n",
       "      <th>user_to</th>\n",
       "      <th>date</th>\n",
       "      <th>value</th>\n",
       "    </tr>\n",
       "  </thead>\n",
       "  <tbody>\n",
       "    <tr>\n",
       "      <th>862 </th>\n",
       "      <td> 305</td>\n",
       "      <td> 34</td>\n",
       "      <td>    163</td>\n",
       "      <td> 20130107021208</td>\n",
       "      <td> 1.030000</td>\n",
       "    </tr>\n",
       "    <tr>\n",
       "      <th>864 </th>\n",
       "      <td> 306</td>\n",
       "      <td> 34</td>\n",
       "      <td> 507951</td>\n",
       "      <td> 20130107022317</td>\n",
       "      <td> 0.610902</td>\n",
       "    </tr>\n",
       "    <tr>\n",
       "      <th>2602</th>\n",
       "      <td> 465</td>\n",
       "      <td> 34</td>\n",
       "      <td>    103</td>\n",
       "      <td> 20130107021208</td>\n",
       "      <td> 0.680000</td>\n",
       "    </tr>\n",
       "    <tr>\n",
       "      <th>4331</th>\n",
       "      <td> 752</td>\n",
       "      <td> 34</td>\n",
       "      <td>    125</td>\n",
       "      <td> 20121216170842</td>\n",
       "      <td> 0.010000</td>\n",
       "    </tr>\n",
       "    <tr>\n",
       "      <th>4335</th>\n",
       "      <td> 754</td>\n",
       "      <td> 34</td>\n",
       "      <td>    125</td>\n",
       "      <td> 20121124081117</td>\n",
       "      <td> 0.260000</td>\n",
       "    </tr>\n",
       "  </tbody>\n",
       "</table>\n",
       "</div>"
      ],
      "text/plain": [
       "      tran_key  user_from  user_to            date     value\n",
       "862        305         34      163  20130107021208  1.030000\n",
       "864        306         34   507951  20130107022317  0.610902\n",
       "2602       465         34      103  20130107021208  0.680000\n",
       "4331       752         34      125  20121216170842  0.010000\n",
       "4335       754         34      125  20121124081117  0.260000"
      ]
     },
     "execution_count": 283,
     "metadata": {},
     "output_type": "execute_result"
    }
   ],
   "source": [
    "data34 = data.loc[((data['user_from'] == 34) | (data['user_to'] == 34)) & (data['user_from']<>data['user_to']) ]\n",
    "data34.head()\n",
    "\n",
    "#from34['date2'] = pd.to_datetime(from34['date'], format=\"%Y%m%d\")\n",
    "#from34.plot(x='date2', y=['count_from']).legend(loc='best')"
   ]
  },
  {
   "cell_type": "code",
   "execution_count": 290,
   "metadata": {
    "collapsed": false
   },
   "outputs": [
    {
     "data": {
      "text/html": [
       "<div style=\"max-height:1000px;max-width:1500px;overflow:auto;\">\n",
       "<table border=\"1\" class=\"dataframe\">\n",
       "  <thead>\n",
       "    <tr style=\"text-align: right;\">\n",
       "      <th></th>\n",
       "      <th>tran_key</th>\n",
       "      <th>user_from</th>\n",
       "      <th>user_to</th>\n",
       "      <th>date</th>\n",
       "      <th>value</th>\n",
       "    </tr>\n",
       "  </thead>\n",
       "  <tbody>\n",
       "    <tr>\n",
       "      <th>5018 </th>\n",
       "      <td>  878</td>\n",
       "      <td>     34</td>\n",
       "      <td> 508450</td>\n",
       "      <td> 20130107021208</td>\n",
       "      <td> 10.27000</td>\n",
       "    </tr>\n",
       "    <tr>\n",
       "      <th>5026 </th>\n",
       "      <td>  882</td>\n",
       "      <td>     34</td>\n",
       "      <td>    134</td>\n",
       "      <td> 20130107021208</td>\n",
       "      <td> 10.04000</td>\n",
       "    </tr>\n",
       "    <tr>\n",
       "      <th>11333</th>\n",
       "      <td> 2074</td>\n",
       "      <td>     34</td>\n",
       "      <td>    279</td>\n",
       "      <td> 20120925164404</td>\n",
       "      <td> 20.00000</td>\n",
       "    </tr>\n",
       "    <tr>\n",
       "      <th>13216</th>\n",
       "      <td> 2594</td>\n",
       "      <td>     34</td>\n",
       "      <td> 509809</td>\n",
       "      <td> 20130106072109</td>\n",
       "      <td> 32.58000</td>\n",
       "    </tr>\n",
       "    <tr>\n",
       "      <th>18106</th>\n",
       "      <td> 3400</td>\n",
       "      <td> 540392</td>\n",
       "      <td>     34</td>\n",
       "      <td> 20130107002428</td>\n",
       "      <td> 25.06318</td>\n",
       "    </tr>\n",
       "  </tbody>\n",
       "</table>\n",
       "</div>"
      ],
      "text/plain": [
       "       tran_key  user_from  user_to            date     value\n",
       "5018        878         34   508450  20130107021208  10.27000\n",
       "5026        882         34      134  20130107021208  10.04000\n",
       "11333      2074         34      279  20120925164404  20.00000\n",
       "13216      2594         34   509809  20130106072109  32.58000\n",
       "18106      3400     540392       34  20130107002428  25.06318"
      ]
     },
     "execution_count": 290,
     "metadata": {},
     "output_type": "execute_result"
    }
   ],
   "source": [
    "data34II.head()"
   ]
  },
  {
   "cell_type": "code",
   "execution_count": 296,
   "metadata": {
    "collapsed": false
   },
   "outputs": [
    {
     "data": {
      "text/plain": [
       "164"
      ]
     },
     "execution_count": 296,
     "metadata": {},
     "output_type": "execute_result"
    }
   ],
   "source": [
    "data34II = data34.loc[data34['value']>200]\n",
    "len(data34II)"
   ]
  },
  {
   "cell_type": "code",
   "execution_count": 297,
   "metadata": {
    "collapsed": false
   },
   "outputs": [],
   "source": [
    "data34II.columns = ['tran_key','Source','Target','date','value']\n",
    "data34II.to_csv('/Users/xxx')"
   ]
  },
  {
   "cell_type": "code",
   "execution_count": 300,
   "metadata": {
    "collapsed": false
   },
   "outputs": [],
   "source": [
    "publickey_list = pd.read_csv('/Users/xxx', header = None)"
   ]
  },
  {
   "cell_type": "code",
   "execution_count": 301,
   "metadata": {
    "collapsed": false
   },
   "outputs": [
    {
     "data": {
      "text/html": [
       "<div style=\"max-height:1000px;max-width:1500px;overflow:auto;\">\n",
       "<table border=\"1\" class=\"dataframe\">\n",
       "  <thead>\n",
       "    <tr style=\"text-align: right;\">\n",
       "      <th></th>\n",
       "      <th>0</th>\n",
       "    </tr>\n",
       "  </thead>\n",
       "  <tbody>\n",
       "    <tr>\n",
       "      <th>0</th>\n",
       "      <td>                             (None)</td>\n",
       "    </tr>\n",
       "    <tr>\n",
       "      <th>1</th>\n",
       "      <td> 1Baf75Ferj6A7AoN565gCQj9kGWbDMHfN9</td>\n",
       "    </tr>\n",
       "    <tr>\n",
       "      <th>2</th>\n",
       "      <td> 16UGfrnx4ew9rfmm7K5i1LbwSg4yEdCw2r</td>\n",
       "    </tr>\n",
       "    <tr>\n",
       "      <th>3</th>\n",
       "      <td> 1FHLKqts4evVj3gpfeykeFA6TRr6MvQJ4S</td>\n",
       "    </tr>\n",
       "    <tr>\n",
       "      <th>4</th>\n",
       "      <td> 1KNxaFF51ktyT4mSHP1Ldun19QsLAPPnXh</td>\n",
       "    </tr>\n",
       "  </tbody>\n",
       "</table>\n",
       "</div>"
      ],
      "text/plain": [
       "                                    0\n",
       "0                              (None)\n",
       "1  1Baf75Ferj6A7AoN565gCQj9kGWbDMHfN9\n",
       "2  16UGfrnx4ew9rfmm7K5i1LbwSg4yEdCw2r\n",
       "3  1FHLKqts4evVj3gpfeykeFA6TRr6MvQJ4S\n",
       "4  1KNxaFF51ktyT4mSHP1Ldun19QsLAPPnXh"
      ]
     },
     "execution_count": 301,
     "metadata": {},
     "output_type": "execute_result"
    }
   ],
   "source": [
    "publickey_list.head()"
   ]
  },
  {
   "cell_type": "code",
   "execution_count": 302,
   "metadata": {
    "collapsed": false
   },
   "outputs": [],
   "source": [
    "ID6 = (24,30,36,37,44,45,47,48,49,54,55,56,60,68,82,83,88,89,90,94,95,97,98,101,102,103,104,105,107,113,122,123,126,258,272,282,290,602,678,735,807,1259,2154,3635,4254,10856,11144,15053,15092,15629,16699,18223,1022285,1022286,1022287,1022288,1022289,1022290,1022291,1022292,1022293,1022294,1022295,1022296,1022297,1022298,1022299,1022300,1022301,1022302,1022303,1022304,1022305,1022306,1022307,1022308,1022309,3971551,4923100,4923101,4923102,5205415,5205416,5205417,5205418,5205419,5205420,5205421,5205422,5205423,5205424,5205425,5205426,5205427,5205428,5205429,5205430,5205431,5205432,5205433,5205434,5205435,5205436,5205437,5205438,5205439,5205440,5205441,5205442,5205443,5205444,5205445,5205446,5205447,5205448,5205449,5205450,5205451,5205452,5205453,5205454,5205455,5205456,5205457,5205458,5205564,5205565,5205566,5205567,5205568,5205569,5205570,5205571,5205572,5205573,5205574,5205575,5205797,5205798,5205799,5205800,5205801,5205802,5205803,5205804,5205805,5205806,5205807,5205808,5206635,5206636,5207004,5207005,5207011,5207017,5207018,5207019,5207021,5207022,5207025,5207030,5207031,5207032,5207038,5207039,5207044,5207045,5207046,5207047,5207068,5207103,5207111,5207141,5207144,5207226,5207227,5207228,5207229,5207232,5207233,5207238,5207322,5207324,5207328,5207334,5207336,5207340,5207341,5207342,5207347,5207348,5207350,5207351,5207352,5207354,5207355,5207356,5207357,5207358,5207359,5207360,5207361,5207367,5207371,5207372,5207373,5207374,5207378,5207379,5207389,5207531,5207533,5207607,5207608,5207609,5207610,5207624,5207625,5207726,5207727,5207728,5207730,5207735,5207739,5207741,5207743,5207748,5207749,5207754,5207755,5207759,5207769,5207774,5207785,5207787,5207788,5207789,5207790,5207803,5207804,5207807,5207810,5207811,5207812,5207814,5207815,5207816,5207817,5207818,5207819,5207820,5207821,5207822,5207823,5207824,5207826,5207827,5207828,5207830,5207832,5207834,5207835,5207837,5207838,5207840,5207847,5207908,5207937,5207964,5207968,5208434,5208435,5208442,5208448,5208453,5208456,5208457,5208458,5208459,5208460,5208461,5208462,5208473,5208475,5208480,5208481,5208482,5208483,5208484,5208485,5208486,5208487,5208488,5208489,5208490,5208492,5208495,5208502,5208504,5208505,5208506,5208522,5208523,5208524,5208525,5208536,5208537,5208538,5208549,5208572,5208573,5208574,5208575,5208576,5208577,5208584,5208585,5208586,5208587,5208588,5208596,5208597,5208599,5208604,5208605,5208743,5208744,5208750,5208751,5208757,5208761,5208765,5208768,5208780,5208781,5208782,5208783,5208784,5208785,5208786,5208787,5208856,5208857,5208863,5208867,5208918,5208920,5208927,5208935,5208937,5208939,5208942,5208943,5208947,5208986,5208987,5208988,5208989,5208990,5208991,5208992,5208993,5208995,5208998,5209000,5209001,5209002,5209003,5209023,5209026,5209027,5209028,5209048,5209133,5209135,5209136,5209137,5209142,5209143,5209145,5209174,5209175,5209181,5209186,5209203,5209204,5209205,5209206,5209207,5209208,5209209,5209210,5209214,5209215,5209216,5209217,5209218,5209219,5209222,5209223,5209230,5209231,5209232,5209233,5209234,5209235,5209237,5209238,5209243,5209244,5209245,5209246,5209247,5209255,5209256,5209257,5209258,5209259,5209260,5209382,5209407,5209413,5209414,5209416,5209417,5209420,5209421,5209422,5209481,5209484,5209485,5209512,5209524,5209529,5209531,5209532,5209571,5209578,5209591,5209592,5209593,5209594,5209595,5209596,5209597,5209598,5209599,5209682,5209683,5209686,5209687,5209688,5209689,5209690,5209691,5209692,5209693,5209694,5209695,5209696,5209699,5209702,5209705,5209708,5209709,5209710,5209711,5209712,5209713,5209714,5209715,5209717,5209718,5211931,5211938,5211939,5211940,5211941,5211942,5211992,5211995,5211996,5211997,5211998,5211999,5212000,5212001,5212002,5212003,5212004,5212005,5212006,5212007,5212008,5212010,5212011,5212012,5212013,5212014,5212015,5212016,5212017,5212018,5212019,5212054,5212056,5212184,5212185,5212200,5212201,5212203,5212204,5212205,5212206,5212207,5212208,5212221,5212222,5212225,5212226,5212227,5212228,5212229,5212230,5212231,5212232,5212237,5212238,5212239,5212245,5212246,5212247,5212248,5212249,5212267,5212268,5212269,5212270,5212271,5212274,5212276,5212277,5212279,5212281,5212286,5212287,5212289,5212312,5212313,5212316,5212318,5212320,5212324,5212326,5212377,5212378,5212379,5212380,5212381,5212382,5212386,5212389,5212391,5212426,5212427,5212428,5212444,5212445,5212446,5212447,5212448,5212449,5212450,5212451,5212456,5212458,5212460,5212461,5212464,5212467,5212468,5212476,5212481,5212482,5212484,5212490,5212494,5212499,5212505,5212507,5212509,5212511,5212514,5212515,5212564,5212568,5212575,5212589,5212590,5212591,5212592,5212593,5212594,5212595,5212596,5212597,5212598,5212599,5212600,5212601,5212606,5212607,5212612,5212613,5212640,5212641,5212704,5212706,5212707,5212708,5212709,5212710,5212711,5212712,5212713,5212714,5212715,5212721,5212722,5212723,5212724,5212725,5212726,5212727,5212728,5212729,5212730,5212731,5212732,5212733,5212734,5212735,5212736,5212737,5212738,5212739,5212740,5212741,5212742,5212743,5212744,5212745,5212746,5212747,5212748,5212749,5212750,5212751,5212752,5212753,5212755,5212756,5212757,5212758,5212769,5212772,5212774,5212776,5212778,5212779,5212878,5212881,5212882,5212894,5212909,5212921,5212928,5212929,5212932,5212935,5212936,5212939,5212940,5212941,5212943,5212944,5212946,5212947,5212948,5212958,5212959,5212960,5212967,5212973,5212975,5212979,5212983,5212996,5212998,5213000,5213003,5213005,5213007,5213009,5213013,5213015,5213018,5213019,5213020,5213022,5213031,5213042,5213045,5213047,5213050,5213065,5213069,5213082,5213086,5213124,5213135,5213146,5213227,5213228,5213230,5213238,5213241,5213243,5213250,5213254,5213255,5213257,5213262,5213264,5213266,5213267,5213268,5213269,5213271,5213272,5213273,5213371,5213386,5213387,5213394,5213396,5213397,5213403,5213404,5213417,5213419,5213420,5213430,5213435,5213436,5213438,5213443,5213444,5213445,5213446,5213448,5213453,5213454,5213460,5213479,5213480,5213489,5213490,5213491,5213492,5213496,5213497,5213498,5213501,5213504,5213546,5213555,5213570,5213571,5213597,5213599,5213600,5213601,5213602,5213649,5213650,5213651,5213652,5213653,5213654,5213655,5213656,5213659,5213660,5213662,5213664,5213668,5213669,5213670,5213672,5213673,5213674,5213675,5213676,5213678,5213679,5213680,5213681,5213682,5213683,5213685,5213686,5213693,5213695,5213696,5213698,5213700,5213702,5213705,5213708,5213710,5213712,5213715,5213716,5213719,5213727,5213729,5213730,5213732,5213733,5213737,5213739,5213742,5213745,5213747,5213749,5213751,5213753,5213754,5213755,5213756,5213757,5213758,5213759,5213760,5213761,5213762,5213981,5213983,5213984,5213985,5213994,5213996,5214003,5214004,5214009,5214018,5214025,5214032,5214035,5214037,5214048,5214051,5214063,5214138,5214140,5214142,5214147,5214159,5214162,5214163,5214165,5214168,5214218,5214219,5214221,5214225,5214226,5214227,5214234,5214237,5214238,5214239,5214245,5214246,5214247,5214248,5214260,5214277,5214278,5214323,5214336,5214344,5214345,5214346,5214379,5214381,5214384,5214385,5214393,5214394,5214404,5214405,5214450,5214499,5214527,5214533,5214554,5214556,5214637,5214641,5214644,5214645,5214660,5214664,5214666,5214671,5214676,5214678,5214679,5214680,5214690,5214696,5214703,5214705,5214775,5214778,5214789,5214820,5214821,5214823,5214824,5214825,5214826,5214839,5214876,5214936,5214939,5214940,5214941,5214946,5214947,5214951,5214952,5214953,5214954,5214973,5214985,5214999,5215022,5215024,5215025,5215028,5215030,5215033,5215086,5215092,5215094,5215098,5215110,5215113,5215129,5215138,5215145,5215165,5215166,5215173,5215181,5215188,5215189,5215209,5215223,5215239,5215240,5215347,5215378,5215399,5215405,5215407,5215409,5215410,5215417,5215436,5215437,5215486,5215518,5215566,5215570,5215577,5215658,5215865,5215868,5215989,5215990,5215995,5215999,5216003,5216013,5216017,5216018,5216031,5216032,5216042,5216047,5216055,5216075,5216079,5216095,5216101,5216102,5216131,5216136,5216139,5216300,5216390,5216391,5216423,5216426,5216450,5216460,5216465,5216467,5216477,5216483,5216545,5216574,5216731,5216748,5216750,5216768,5216786,5216921,5216925,5216930,5216932,5216933,5216946,5216959,5216975,5217130,5217131,5217132,5217133,5217228,5217229,5217243,5217256,5217300,5217371,5217376,5217383,5217441,5217585,5217596,5217620,5217669,5217885,5217933,5218044,5218210,5218283,5218508,5219068,5219134,5219156,5219253,5219269,5219573,5219829,5219927,5220279,5220541,5220568,5220840,5220965,5221191,5221302,5225224,5458696,5459804,5470941,5471310,5471391,5471394,5473096,5476720,5476722,5482905,5483323,5483524)"
   ]
  },
  {
   "cell_type": "code",
   "execution_count": 325,
   "metadata": {
    "collapsed": false
   },
   "outputs": [],
   "source": [
    "test = []\n",
    "for i in ID6:\n",
    "    test.append(publickey_list.loc[[i]])"
   ]
  },
  {
   "cell_type": "code",
   "execution_count": 327,
   "metadata": {
    "collapsed": false
   },
   "outputs": [
    {
     "data": {
      "text/plain": [
       "1090"
      ]
     },
     "execution_count": 327,
     "metadata": {},
     "output_type": "execute_result"
    }
   ],
   "source": [
    "len(ID6)"
   ]
  },
  {
   "cell_type": "code",
   "execution_count": null,
   "metadata": {
    "collapsed": false
   },
   "outputs": [],
   "source": []
  }
 ],
 "metadata": {
  "kernelspec": {
   "display_name": "Python 2",
   "language": "python",
   "name": "python2"
  },
  "language_info": {
   "codemirror_mode": {
    "name": "ipython",
    "version": 2
   },
   "file_extension": ".py",
   "mimetype": "text/x-python",
   "name": "python",
   "nbconvert_exporter": "python",
   "pygments_lexer": "ipython2",
   "version": "2.7.11"
  }
 },
 "nbformat": 4,
 "nbformat_minor": 0
}
